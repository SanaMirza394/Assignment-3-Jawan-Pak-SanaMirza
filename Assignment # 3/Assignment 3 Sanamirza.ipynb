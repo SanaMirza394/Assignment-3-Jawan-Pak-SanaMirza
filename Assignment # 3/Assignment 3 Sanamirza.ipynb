{
 "cells": [
  {
   "cell_type": "code",
   "execution_count": 18,
   "id": "cfed0a7d",
   "metadata": {},
   "outputs": [
    {
     "name": "stdout",
     "output_type": "stream",
     "text": [
      "Twinkle, twinkle, little star,\n",
      "\tHow I wonder what you are!\n",
      "\t\tUp above the world so high,\n",
      "\t\tLike a diamond in the sky.\n",
      "Twinkle, twinkle, little star,\n",
      "\tHow I wonder what you are.\n"
     ]
    }
   ],
   "source": [
    "#Write a Python program to print the following string in a specific format \n",
    "\n",
    "print('Twinkle, twinkle, little star,')\n",
    "print(\"\\tHow I wonder what you are!\")\n",
    "print(\"\\t\\tUp above the world so high,\")\n",
    "print(\"\\t\\tLike a diamond in the sky.\")\n",
    "print(\"Twinkle, twinkle, little star,\")\n",
    "print(\"\\tHow I wonder what you are.\")"
   ]
  },
  {
   "cell_type": "code",
   "execution_count": 19,
   "id": "01ce2f76",
   "metadata": {},
   "outputs": [
    {
     "name": "stdout",
     "output_type": "stream",
     "text": [
      "Python version\n",
      "3.8.8 (default, Apr 13 2021, 15:08:03) [MSC v.1916 64 bit (AMD64)]\n",
      "Version info.\n",
      "sys.version_info(major=3, minor=8, micro=8, releaselevel='final', serial=0)\n"
     ]
    }
   ],
   "source": [
    "#Write a Python program to get the Python version you are using\n",
    "import sys\n",
    "print(\"Python version\")\n",
    "print (sys.version)\n",
    "print(\"Version info.\")\n",
    "print (sys.version_info)"
   ]
  },
  {
   "cell_type": "code",
   "execution_count": 21,
   "id": "a657b2c4",
   "metadata": {},
   "outputs": [
    {
     "name": "stdout",
     "output_type": "stream",
     "text": [
      "Current date and time : \n",
      "2021-10-23 21:09:16\n"
     ]
    }
   ],
   "source": [
    "#Write a Python program to display the current date and time.\n",
    "import datetime\n",
    "now = datetime.datetime.now()\n",
    "print (\"Current date and time : \")\n",
    "print (now.strftime(\"%Y-%m-%d %H:%M:%S\"))\n"
   ]
  },
  {
   "cell_type": "code",
   "execution_count": 27,
   "id": "e1e6217f",
   "metadata": {},
   "outputs": [
    {
     "name": "stdout",
     "output_type": "stream",
     "text": [
      "Enter the radius of the circle: 2.2\n",
      "Radius: 2.2\n",
      "Area =  6.91152\n"
     ]
    }
   ],
   "source": [
    "#Write a Python program which accepts the radius of a circle from the user and compute\n",
    "\n",
    "r = float(input(\"Enter the radius of the circle: \"))\n",
    "\n",
    "area = 3.1416 * r\n",
    "\n",
    "print(\"Radius:\", r)\n",
    "\n",
    "print(\"Area = \", area)"
   ]
  },
  {
   "cell_type": "code",
   "execution_count": 29,
   "id": "77fae93d",
   "metadata": {},
   "outputs": [
    {
     "name": "stdout",
     "output_type": "stream",
     "text": [
      "Input your First Name : Sana\n",
      "Input your Last Name : Mirza\n",
      "Hello  Mirza Sana\n"
     ]
    }
   ],
   "source": [
    "#Write a Python program which accepts the user's first and last name and print them in\n",
    "#reverse order with a space between them.\n",
    "fname = input(\"Input your First Name : \")\n",
    "lname = input(\"Input your Last Name : \")\n",
    "print (\"Hello  \" + lname + \" \" + fname)"
   ]
  },
  {
   "cell_type": "code",
   "execution_count": 31,
   "id": "5dd7f662",
   "metadata": {},
   "outputs": [
    {
     "name": "stdout",
     "output_type": "stream",
     "text": [
      "enter first number: 5\n",
      "enter second number: 3\n",
      "sum: 8\n"
     ]
    }
   ],
   "source": [
    "#Write a python program which takes two inputs from user and print them addition\n",
    "a = int(input(\"enter first number: \"))\n",
    "b = int(input(\"enter second number: \"))\n",
    "sum = a + b;\n",
    "print(\"sum:\", sum)\n"
   ]
  },
  {
   "cell_type": "code",
   "execution_count": 33,
   "id": "f587b190",
   "metadata": {},
   "outputs": [
    {
     "name": "stdout",
     "output_type": "stream",
     "text": [
      "Enter Marks Obtained in 5 Subjects: \n",
      "95\n",
      "85\n",
      "70\n",
      "65\n",
      "55\n",
      "Your Grade is B1\n"
     ]
    }
   ],
   "source": [
    "#Write a program which takes 5 inputs from user for different subject’s marks, total it\n",
    "#and generate mark sheet using grades\n",
    "print(\"Enter Marks Obtained in 5 Subjects: \")\n",
    "markOne = int(input())\n",
    "markTwo = int(input())\n",
    "markThree = int(input())\n",
    "markFour = int(input())\n",
    "markFive = int(input())\n",
    "\n",
    "tot = markOne+markTwo+markThree+markFour+markFive\n",
    "avg = tot/5\n",
    "\n",
    "if avg>=91 and avg<=100:\n",
    "    print(\"Your Grade is A1\")\n",
    "elif avg>=81 and avg<91:\n",
    "    print(\"Your Grade is A2\")\n",
    "elif avg>=71 and avg<81:\n",
    "    print(\"Your Grade is B1\")\n",
    "elif avg>=61 and avg<71:\n",
    "    print(\"Your Grade is B2\")\n",
    "elif avg>=51 and avg<61:\n",
    "    print(\"Your Grade is C1\")\n",
    "elif avg>=41 and avg<51:\n",
    "    print(\"Your Grade is C2\")\n",
    "elif avg>=33 and avg<41:\n",
    "    print(\"Your Grade is D\")\n",
    "elif avg>=21 and avg<33:\n",
    "    print(\"Your Grade is E1\")\n",
    "elif avg>=0 and avg<21:\n",
    "    print(\"Your Grade is E2\")\n",
    "else:\n",
    "    print(\"Invalid Input!\")"
   ]
  },
  {
   "cell_type": "code",
   "execution_count": 34,
   "id": "e0c8331d",
   "metadata": {},
   "outputs": [
    {
     "name": "stdout",
     "output_type": "stream",
     "text": [
      "Enter a number: 4\n",
      "4 is Even\n"
     ]
    }
   ],
   "source": [
    "#Write a program which take input from user and identify that the given number is even\n",
    "#or odd?\n",
    "# Python program to check if the input number is odd or even.\n",
    "# A number is even if division by 2 gives a remainder of 0.\n",
    "# If the remainder is 1, it is an odd number.\n",
    "\n",
    "num = int(input(\"Enter a number: \"))\n",
    "if (num % 2) == 0:\n",
    "   print(\"{0} is Even\".format(num))\n",
    "else:\n",
    "   print(\"{0} is Odd\".format(num))"
   ]
  },
  {
   "cell_type": "code",
   "execution_count": 37,
   "id": "0c13a2c2",
   "metadata": {},
   "outputs": [
    {
     "name": "stdout",
     "output_type": "stream",
     "text": [
      "The list is : [1, 4, 5, 7, 8]\n",
      "Length of list is : 5\n"
     ]
    }
   ],
   "source": [
    "#Write a program which print the length of the list?\n",
    "# Python code to demonstrate\n",
    "# length of list\n",
    "\n",
    "  \n",
    "# Initializing list \n",
    "test_list = [ 1, 4, 5, 7, 8 ]\n",
    "  \n",
    "# Printing test_list\n",
    "print (\"The list is : \" + str(test_list))\n",
    "  \n",
    "# Finding length of list \n",
    "# using loop\n",
    "# Initializing counter\n",
    "counter = 0\n",
    "for i in test_list:\n",
    "      \n",
    "    # incrementing counter\n",
    "    counter = counter + 1\n",
    "  \n",
    "# Printing length of list \n",
    "print (\"Length of list is : \" + str(counter))"
   ]
  },
  {
   "cell_type": "code",
   "execution_count": 40,
   "id": "111780c4",
   "metadata": {},
   "outputs": [
    {
     "name": "stdout",
     "output_type": "stream",
     "text": [
      "-5\n"
     ]
    }
   ],
   "source": [
    "#10.Write a Python program to sum all the numeric items in a list?\n",
    "def sum_list(items):\n",
    "    sum_numbers = 0\n",
    "    for x in items:\n",
    "        sum_numbers += x\n",
    "    return sum_numbers\n",
    "print(sum_list([1,2,-8]))"
   ]
  },
  {
   "cell_type": "code",
   "execution_count": 41,
   "id": "b329d95b",
   "metadata": {},
   "outputs": [
    {
     "name": "stdout",
     "output_type": "stream",
     "text": [
      "7\n"
     ]
    }
   ],
   "source": [
    "#11.Write a Python program to get the largest number from a numeric list.\n",
    "def max_num_in_list( list ):\n",
    "    max = list[ 0 ]\n",
    "    for a in list:\n",
    "        if a > max:\n",
    "            max = a\n",
    "    return max\n",
    "print(max_num_in_list([1, 2, -2, 7]))"
   ]
  },
  {
   "cell_type": "code",
   "execution_count": 43,
   "id": "637ac5fa",
   "metadata": {},
   "outputs": [
    {
     "name": "stdout",
     "output_type": "stream",
     "text": [
      "1\n",
      "1\n",
      "2\n",
      "3\n",
      "[1, 1, 2, 3]\n",
      "[1, 1, 2, 3]\n",
      "Select a number: \n",
      "2\n",
      "[1, 1]\n"
     ]
    }
   ],
   "source": [
    "#Take a list, say for example this one:\n",
    "#Take a list, say for example this one: a = [1, 1, 2, 3, 5, 8, 13, 21, 34, 55, 89]\n",
    "#and write a program that prints out all the elements of the list that are less than 5.\n",
    "a = [1, 1, 2, 3, 5, 8, 13, 21, 34, 55, 89]\n",
    "for i in a:\n",
    "    if i < 5:\n",
    "        print(i)\n",
    "\n",
    "#Instead of printing the elements one by one, make a new list that has all the elements less than 5 from\n",
    "#this list in it and print out this new list.\n",
    "a = [1, 1, 2, 3, 5, 8, 13, 21, 34, 55, 89]\n",
    "b = []\n",
    "for i in a:\n",
    "    if i < 5:\n",
    "        b.append(i)\n",
    "print(b)\n",
    "\n",
    "#Write this in one line of Python. \n",
    "a = [1, 1, 2, 3, 5, 8, 13, 21, 34, 55, 89]\n",
    "b = []\n",
    "[b.append(i) for i in a if i < 5]\n",
    "print(b)\n",
    "\n",
    "#Ask the user for a number and return a list that contains only elements from \n",
    "#the original list a that are smaller than that number given by the user.\n",
    "a = [1, 1, 2, 3, 5, 8, 13, 21, 34, 55, 89]\n",
    "b = []\n",
    "user_input = int(input('Select a number: \\n'))\n",
    "[b.append(i) for i in a if i < user_input]\n",
    "print(b)"
   ]
  },
  {
   "cell_type": "code",
   "execution_count": null,
   "id": "78f87bbf",
   "metadata": {},
   "outputs": [],
   "source": []
  }
 ],
 "metadata": {
  "kernelspec": {
   "display_name": "Python 3",
   "language": "python",
   "name": "python3"
  },
  "language_info": {
   "codemirror_mode": {
    "name": "ipython",
    "version": 3
   },
   "file_extension": ".py",
   "mimetype": "text/x-python",
   "name": "python",
   "nbconvert_exporter": "python",
   "pygments_lexer": "ipython3",
   "version": "3.8.8"
  }
 },
 "nbformat": 4,
 "nbformat_minor": 5
}
